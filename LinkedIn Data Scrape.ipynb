{
 "cells": [
  {
   "cell_type": "markdown",
   "metadata": {},
   "source": [
    "## Install Packages ##"
   ]
  },
  {
   "cell_type": "code",
   "execution_count": null,
   "metadata": {},
   "outputs": [],
   "source": [
    "from selenium import webdriver\n",
    "from selenium.webdriver.common.keys import Keys\n",
    "from selenium.webdriver import ActionChains\n",
    "from bs4 import BeautifulSoup\n",
    "from time import sleep\n",
    "\n",
    "print('- Package Imported')"
   ]
  },
  {
   "cell_type": "markdown",
   "metadata": {},
   "source": [
    "## Initiate LinkedIn On Chrome ##"
   ]
  },
  {
   "cell_type": "code",
   "execution_count": null,
   "metadata": {},
   "outputs": [],
   "source": [
    "driver = webdriver.Chrome()\n",
    "url = 'https://www.linkedin.com/login'\n",
    "driver.get('https://www.linkedin.com/login')\n",
    "sleep(4)"
   ]
  },
  {
   "cell_type": "code",
   "execution_count": null,
   "metadata": {},
   "outputs": [],
   "source": [
    "Credentials = open('Credentials.txt')\n",
    "line = Credentials.readlines()\n",
    "username = line[0] \n",
    "password = line[1]\n",
    "print ('Login Credentials Loaded')"
   ]
  },
  {
   "cell_type": "markdown",
   "metadata": {},
   "source": [
    "## LinkedIn Login Procedure ##"
   ]
  },
  {
   "cell_type": "code",
   "execution_count": null,
   "metadata": {},
   "outputs": [],
   "source": [
    "email_login = driver.find_element('id', 'username')\n",
    "email_login.send_keys(username)\n",
    "sleep(3)\n",
    "print('Email Entered')\n",
    "password_login = driver.find_element('id', 'password')\n",
    "password_login.send_keys(password)\n",
    "sleep(2)\n",
    "print('Password Entered')\n",
    "login_button = driver.find_element('class name', 'login__form_action_container')\n",
    "login_button.click()\n",
    "sleep(4)\n",
    "print('Login Button Clicked')"
   ]
  },
  {
   "cell_type": "markdown",
   "metadata": {},
   "source": [
    "## Search For Candidate ##"
   ]
  },
  {
   "cell_type": "code",
   "execution_count": null,
   "metadata": {},
   "outputs": [],
   "source": [
    "Profile_Search = driver.find_element('class name', 'search-global-typeahead__input')\n",
    "Profile_Search.send_keys('Mid-Weight Designer')\n",
    "sleep(1)\n",
    "Profile_Search.send_keys(Keys.RETURN)"
   ]
  },
  {
   "cell_type": "code",
   "execution_count": null,
   "metadata": {},
   "outputs": [],
   "source": [
    "People_Search = driver.find_element('xpath' , '//*[@id=\"search-reusables__filters-bar\"]/ul/li[3]/button')\n",
    "People_Search.click()\n",
    "sleep(1)"
   ]
  },
  {
   "cell_type": "code",
   "execution_count": null,
   "metadata": {},
   "outputs": [],
   "source": [
    "Location_Filter = driver.find_element('xpath' , '//*[@id=\"searchFilter_geoUrn\"]')\n",
    "Location_Filter.click()\n",
    "sleep(1)"
   ]
  },
  {
   "cell_type": "code",
   "execution_count": null,
   "metadata": {},
   "outputs": [],
   "source": [
    "Search_Location_Bar = driver.find_element('xpath', '/html/body/div[6]/div[3]/div[2]/section/div/nav/div/ul/li[5]/div/div/div/div[1]/div/form/fieldset/div[1]/div/div/input')\n",
    "sleep(1)\n",
    "Search_Location_Bar.send_keys('Johannesburg')\n",
    "Johannesburg_Find = driver.find_element('xpath', '/html/body/div[6]/div[3]/div[2]/section/div/nav/div/ul/li[5]/div/div/div/div[1]/div/form/fieldset/div[1]/div/div/input')\n",
    "Johannesburg_Find.send_keys(Keys.ARROW_DOWN)\n",
    "#Search_Location_Bar.send_keys(Keys.ARROW_DOWN"
   ]
  },
  {
   "cell_type": "code",
   "execution_count": null,
   "metadata": {},
   "outputs": [],
   "source": [
    "Johannesburg_Find.send_keys(Keys.ARROW_DOWN)\n",
    "Johannesburg_Find.send_keys(Keys.RETURN)"
   ]
  },
  {
   "cell_type": "code",
   "execution_count": null,
   "metadata": {},
   "outputs": [],
   "source": [
    "Search_Bar = driver.find_element('xpath', '/html/body/div[6]/div[3]/div[2]/section/div/nav/div/ul/li[5]/div/div/div/div[1]/div/form/fieldset/div[2]/button[2]')\n",
    "Search_Bar.click()\n",
    "sleep(2)"
   ]
  },
  {
   "cell_type": "markdown",
   "metadata": {},
   "source": [
    "## Start The Data Mine ##"
   ]
  },
  {
   "cell_type": "code",
   "execution_count": null,
   "metadata": {},
   "outputs": [],
   "source": [
    "def getURLs():\n",
    "    profile_pages = BeautifulSoup(driver.page_source)\n",
    "    Profiles = profile_pages.find_all('a')\n",
    "    print(Profiles)\n",
    "    All_Profile_URL = []\n",
    "    for profile in Profiles:\n",
    "\n",
    "        Profile_ID = profile.get('href')\n",
    "    Profile_URL = 'https://www.linkedin.com' + Profile_ID\n",
    "    if Profile_URL not in All_Profile_URL:\n",
    "        All_Profile_URL.append(Profile_URL)\n",
    "        return All_Profile_URL\n",
    "print(getURLs())"
   ]
  },
  {
   "cell_type": "code",
   "execution_count": null,
   "metadata": {},
   "outputs": [],
   "source": []
  },
  {
   "cell_type": "code",
   "execution_count": null,
   "metadata": {},
   "outputs": [],
   "source": []
  }
 ],
 "metadata": {
  "kernelspec": {
   "display_name": "base",
   "language": "python",
   "name": "python3"
  },
  "language_info": {
   "codemirror_mode": {
    "name": "ipython",
    "version": 3
   },
   "file_extension": ".py",
   "mimetype": "text/x-python",
   "name": "python",
   "nbconvert_exporter": "python",
   "pygments_lexer": "ipython3",
   "version": "3.12.7"
  }
 },
 "nbformat": 4,
 "nbformat_minor": 2
}

{
 "cells": [
  {
   "cell_type": "markdown",
   "id": "72346d5c-8567-4656-be38-cff79279da95",
   "metadata": {},
   "source": [
    "# Random Forest Classification Model For British Airways."
   ]
  },
  {
   "cell_type": "markdown",
   "id": "23f39855-0d01-4840-8275-3642beaa6c24",
   "metadata": {
    "jp-MarkdownHeadingCollapsed": true
   },
   "source": [
    "## 1. Importing Our Libaries And Data."
   ]
  },
  {
   "cell_type": "code",
   "execution_count": 1,
   "id": "387a86d3-53e3-4817-ad16-21e4348d5dd0",
   "metadata": {},
   "outputs": [],
   "source": [
    "import pandas as pd \n",
    "\n",
    "import numpy as np\n",
    "\n",
    "from sklearn.model_selection import train_test_split\n",
    "\n",
    "from sklearn.metrics import precision_score\n",
    "\n",
    "from sklearn.metrics import recall_score\n",
    "\n",
    "from sklearn.metrics import f1_score\n",
    "\n",
    "customer_bookings = pd.read_csv(\"customer_booking.csv\", encoding=\"ISO-8859-1\")"
   ]
  },
  {
   "cell_type": "markdown",
   "id": "7ad23be4-6b08-4679-b5a0-6218599f12b8",
   "metadata": {
    "jp-MarkdownHeadingCollapsed": true
   },
   "source": [
    "## 2. Cleaning And Manipulating Our Data."
   ]
  },
  {
   "cell_type": "code",
   "execution_count": 2,
   "id": "57ae39c4-c5f6-4021-ac0b-7d3c7e16612b",
   "metadata": {},
   "outputs": [],
   "source": [
    "# .astype() function returns an error so we can use .map"
   ]
  },
  {
   "cell_type": "code",
   "execution_count": 3,
   "id": "af517c46-c447-4dae-b55b-a8c1c219a9db",
   "metadata": {},
   "outputs": [],
   "source": [
    "Week = {\n",
    "    'Mon': 1,\n",
    "    'Tue': 2,\n",
    "    'Wed': 3,\n",
    "    'Thu': 4,\n",
    "    'Fri': 5,\n",
    "    'Sat': 6,\n",
    "    'Sun': 7,\n",
    "}\n",
    "\n",
    "customer_bookings['flight_day'] = customer_bookings['flight_day'].map(Week)"
   ]
  },
  {
   "cell_type": "code",
   "execution_count": 4,
   "id": "680d7db4-843c-4132-b410-df4670b06f00",
   "metadata": {},
   "outputs": [],
   "source": [
    "Sale_Type = {\n",
    "    'Internet': 1,\n",
    "    'Mobile'  : 2,\n",
    "}\n",
    "\n",
    "customer_bookings['sales_channel'] = customer_bookings['sales_channel'].map(Sale_Type)"
   ]
  },
  {
   "cell_type": "code",
   "execution_count": 5,
   "id": "799b575e-e313-4658-99ac-7b308de71731",
   "metadata": {},
   "outputs": [],
   "source": [
    "Trip_Type = {\n",
    "    'RoundTrip': 1,\n",
    "    'CircleTrip': 2,\n",
    "    'OneWay': 3,\n",
    "}\n",
    "\n",
    "customer_bookings['trip_type'] = customer_bookings['trip_type'].map(Trip_Type)"
   ]
  },
  {
   "cell_type": "code",
   "execution_count": 6,
   "id": "7807c9d9-e0dd-47fd-94e1-1bd1b740d845",
   "metadata": {},
   "outputs": [],
   "source": [
    "Booking_Origin = {\n",
    "    'New Zealand'               : 1,\n",
    "    'India'                     : 2,\n",
    "    'United Kingdom'            : 3,\n",
    "    'China'                     : 4,\n",
    "    'South Korea'               : 5,\n",
    "    'Japan'                     : 6,\n",
    "    'Malaysia'                  : 7,\n",
    "    'Singapore'                 : 8,\n",
    "    'Switzerland'               : 9,\n",
    "    'Germany'                   : 10,\n",
    "    'Indonesia'                 : 11,\n",
    "    'Czech Republic'            : 12,\n",
    "    'Vietnam'                   : 13,\n",
    "    'Thailand'                  : 14,\n",
    "    'Spain'                     : 15,\n",
    "    'Romania'                   : 16,\n",
    "    'Ireland'                   : 17,\n",
    "    'Italy'                     : 18,\n",
    "    'Slovakia'                  : 19,\n",
    "    'United Arab Emirates'      : 20,\n",
    "    'Tonga'                     : 21,\n",
    "    'Réunion'                   : 22,\n",
    "    '(not set)'                 : 23,\n",
    "    'Saudi Arabia'              : 24,\n",
    "    'Netherlands'               : 25,\n",
    "    'Qatar'                     : 26,\n",
    "    'Hong Kong'                 : 27,\n",
    "    'Philippines'               : 28,\n",
    "    'Sri Lanka'                 : 29,\n",
    "    'France'                    : 30,\n",
    "    'Croatia'                   : 31,\n",
    "    'United States'             : 32,\n",
    "    'Laos'                      : 33,\n",
    "    'Hungary'                   : 34,\n",
    "    'Portugal'                  : 35,\n",
    "    'Cyprus'                    : 36,\n",
    "    'Australia'                 : 37,\n",
    "    'Cambodia'                  : 38,\n",
    "    'Poland'                    : 39,\n",
    "    'Belgium'                   : 40,\n",
    "    'Oman'                      : 41,\n",
    "    'Bangladesh'                : 42,\n",
    "    'Kazakhstan'                : 43,\n",
    "    'Brazil'                    : 44,\n",
    "    'Turkey'                    : 45,\n",
    "    'Kenya'                     : 46,\n",
    "    'Taiwan'                    : 47,\n",
    "    'Brunei'                    : 48,\n",
    "    'Chile'                     : 49,\n",
    "    'Bulgaria'                  : 50,\n",
    "    'Ukraine'                   : 51,\n",
    "    'Denmark'                   : 52,\n",
    "    'Colombia'                  : 53,\n",
    "    'Iran'                      : 54,\n",
    "    'Bahrain'                   : 55,\n",
    "    'Solomon Islands'           : 56,\n",
    "    'Slovenia'                  : 57,\n",
    "    'Mauritius'                 : 58,\n",
    "    'Nepal'                     : 59,\n",
    "    'Russia'                    : 60,\n",
    "    'Kuwait'                    : 61,\n",
    "    'Mexico'                    : 62,\n",
    "    'Sweden'                    : 63,\n",
    "    'Austria'                   : 64,\n",
    "    'Lebanon'                   : 65,\n",
    "    'Jordan'                    : 66,\n",
    "    'Greece'                    : 67,\n",
    "    'Mongolia'                  : 68,\n",
    "    'Canada'                    : 69,\n",
    "    'Tanzania'                  : 70,\n",
    "    'Peru'                      : 71,\n",
    "    'Timor-Leste'               : 72,\n",
    "    'Argentina'                 : 73,\n",
    "    'New Caledonia'             : 74,\n",
    "    'Macau'                     : 75,\n",
    "    'Myanmar (Burma)'           : 76,\n",
    "    'Norway'                    : 77,\n",
    "    'Panama'                    : 78,\n",
    "    'Bhutan'                    : 79,\n",
    "    'Norfolk Island'            : 80,\n",
    "    'Finland'                   : 81,\n",
    "    'Nicaragua'                 : 82,\n",
    "    'Maldives'                  : 83,\n",
    "    'Egypt'                     : 84,\n",
    "    'Israel'                    : 85,\n",
    "    'Tunisia'                   : 86,\n",
    "    'South Africa'              : 87,\n",
    "    'Papua New Guinea'          : 88,\n",
    "    'Paraguay'                  : 89,\n",
    "    'Estonia'                   : 90,\n",
    "    'Seychelles'                : 91,\n",
    "    'Afghanistan'               : 92,\n",
    "    'Guam'                      : 93,\n",
    "    'Czechia'                   : 94,\n",
    "    'Malta'                     : 95,\n",
    "    'Vanuatu'                   : 96,\n",
    "    'Belarus'                   : 97,\n",
    "    'Pakistan'                  : 98,\n",
    "    'Iraq'                      : 99,\n",
    "    'Ghana'                     : 100,\n",
    "    'Gibraltar'                 : 101,\n",
    "    'Guatemala'                 : 102,\n",
    "    'Algeria'                   : 103,\n",
    "    'Svalbard & Jan Mayen'      : 104,\n",
    "}\n",
    "\n",
    "customer_bookings['booking_origin'] = customer_bookings['booking_origin'].map(Booking_Origin)"
   ]
  },
  {
   "cell_type": "code",
   "execution_count": 7,
   "id": "2dad0445-3c7e-4744-b117-6ff00b7dcb71",
   "metadata": {},
   "outputs": [],
   "source": [
    "customer_bookings = customer_bookings.drop('route', axis = 1)"
   ]
  },
  {
   "cell_type": "markdown",
   "id": "e799aab8-60d5-40e7-ad02-f9af6cb71001",
   "metadata": {},
   "source": [
    "## 3. Using ScikitLearn To Find A Suitable Classification Algorithm/Model."
   ]
  },
  {
   "cell_type": "markdown",
   "id": "f744d750-aae8-4e58-ac50-8ee52e832556",
   "metadata": {},
   "source": [
    "First We Need To Classifiy The Problem We Are Tring To Solve.\n",
    "\n",
    "We Can Use The Map Provided By SciKit Learn To Assist...https://scikit-learn.org/stable/tutorial/machine_learning_map/index.html\n",
    "\n",
    "The Problem We Are Tring To Solve Is Wether A Customer Will Purchace A Ticket.\n",
    "\n",
    "This Is A Classification Problem."
   ]
  },
  {
   "cell_type": "code",
   "execution_count": 8,
   "id": "f18cfe80-cf85-4ae7-af67-ee502ffd6177",
   "metadata": {},
   "outputs": [],
   "source": [
    "# From The Map Scikit Learn says to try LinearSVC & Random Forest Classification models."
   ]
  },
  {
   "cell_type": "markdown",
   "id": "3e19673e-4a6b-4c95-af7a-90aa8580fb40",
   "metadata": {
    "jp-MarkdownHeadingCollapsed": true
   },
   "source": [
    "### 1. Linear SVC Classification."
   ]
  },
  {
   "cell_type": "code",
   "execution_count": 9,
   "id": "9b65fadf-8610-43de-978a-d5575aebe503",
   "metadata": {},
   "outputs": [
    {
     "name": "stderr",
     "output_type": "stream",
     "text": [
      "/Users/robinjames/anaconda3/lib/python3.11/site-packages/sklearn/svm/_classes.py:31: FutureWarning: The default value of `dual` will change from `True` to `'auto'` in 1.5. Set the value of `dual` explicitly to suppress the warning.\n",
      "  warnings.warn(\n",
      "/Users/robinjames/anaconda3/lib/python3.11/site-packages/sklearn/svm/_base.py:1237: ConvergenceWarning: Liblinear failed to converge, increase the number of iterations.\n",
      "  warnings.warn(\n"
     ]
    },
    {
     "data": {
      "text/plain": [
       "0.85176"
      ]
     },
     "execution_count": 9,
     "metadata": {},
     "output_type": "execute_result"
    }
   ],
   "source": [
    "    # Import The Linear SVC Classification Model.\n",
    "\n",
    "from sklearn.svm import LinearSVC\n",
    "\n",
    "    # Set Up Random Seed.\n",
    "\n",
    "np.random.seed(42)\n",
    "\n",
    "    # Create The Data And Define The Wanted Outcome, Which Is If A Customer Will Book A Flight.\n",
    "\n",
    "X = customer_bookings.drop('booking_complete' , axis = 1)\n",
    "y = customer_bookings['booking_complete']\n",
    "\n",
    "    # Split The Data Into Train And Test Split.\n",
    "\n",
    "X_train , X_test , y_train , y_test = train_test_split (X , y , test_size = 0.25)\n",
    "\n",
    "    # Instantiate The Linear Classification Model. \n",
    "\n",
    "clf = LinearSVC()\n",
    "clf.fit(X_train , y_train)\n",
    "\n",
    "    # Evaluate The Linear Classification Model On The Test Data.\n",
    "\n",
    "clf.score(X_test , y_test)"
   ]
  },
  {
   "cell_type": "markdown",
   "id": "dc238d74-115d-41e2-8c72-9e5d7c035651",
   "metadata": {},
   "source": [
    "### Random Forest Classification Model."
   ]
  },
  {
   "cell_type": "code",
   "execution_count": 10,
   "id": "78f0caad-c3db-4d97-b313-42d001b8c03d",
   "metadata": {},
   "outputs": [
    {
     "data": {
      "text/plain": [
       "0.8539"
      ]
     },
     "execution_count": 10,
     "metadata": {},
     "output_type": "execute_result"
    }
   ],
   "source": [
    "    # Import The RandomForestClassifier Model.\n",
    "\n",
    "from sklearn.ensemble import RandomForestClassifier\n",
    "\n",
    "    # Set Up Random Seed.\n",
    "\n",
    "np.random.seed(42)\n",
    "\n",
    "    # Create The Data And Define The Wanted Outcome, Which Is If A Customer Will Book A Flight.\n",
    "\n",
    "X = customer_bookings.drop('booking_complete' , axis = 1)\n",
    "y = customer_bookings['booking_complete']\n",
    "\n",
    "    # Split The Data Into Train And Test Split.\n",
    "\n",
    "X_train , X_test , y_train , y_test = train_test_split (X , y , test_size = 0.2)\n",
    "\n",
    "    # Instantiate The RandomForestClassifier Model. \n",
    "\n",
    "clf = RandomForestClassifier()\n",
    "clf.fit(X_train , y_train)\n",
    "\n",
    "    # Evaluate The RandomForestClassifier Model On The Test Data.\n",
    "\n",
    "clf.score(X_test , y_test)"
   ]
  },
  {
   "cell_type": "markdown",
   "id": "88122743-deba-49bf-a73b-21f977238b15",
   "metadata": {},
   "source": [
    "## 4. Scoring And Comparing The Random Forest Classification Model."
   ]
  },
  {
   "cell_type": "markdown",
   "id": "2570d407-2158-41b3-b53c-fd215694f5df",
   "metadata": {},
   "source": [
    "Different Ways To Score Our Model\n",
    "\n",
    "1. Scoring\n",
    "\n",
    "2. Cross validation"
   ]
  },
  {
   "cell_type": "markdown",
   "id": "8cc90b7e-7df6-4890-b91e-41b9e531e50c",
   "metadata": {
    "jp-MarkdownHeadingCollapsed": true
   },
   "source": [
    "### 1. Scoring Method."
   ]
  },
  {
   "cell_type": "code",
   "execution_count": 11,
   "id": "5aab70ea-e3c0-4730-b3c6-25d969224dab",
   "metadata": {},
   "outputs": [
    {
     "data": {
      "text/plain": [
       "0.8539"
      ]
     },
     "execution_count": 11,
     "metadata": {},
     "output_type": "execute_result"
    }
   ],
   "source": [
    "# Import The RandomForestClassifier Model.\n",
    "\n",
    "from sklearn.ensemble import RandomForestClassifier\n",
    "\n",
    "    # Set Up Random Seed.\n",
    "\n",
    "np.random.seed(42)\n",
    "\n",
    "    # Create The Data And Define The Wanted Outcome, Which Is If A Customer Will Book A Flight.\n",
    "\n",
    "X = customer_bookings.drop('booking_complete' , axis = 1)\n",
    "y = customer_bookings['booking_complete']\n",
    "\n",
    "    # Split The Data Into Train And Test Split.\n",
    "\n",
    "X_train , X_test , y_train , y_test = train_test_split (X , y , test_size = 0.2)\n",
    "\n",
    "    # Instantiate The RandomForestClassifier Model. \n",
    "\n",
    "clf = RandomForestClassifier()\n",
    "\n",
    "    # Fit The Data To Our Algorithim.\n",
    "clf.fit(X_train , y_train)\n",
    "clf.score(X_test , y_test)"
   ]
  },
  {
   "cell_type": "markdown",
   "id": "7ff63b44-3dc4-484f-9faa-c10d8b2e6d42",
   "metadata": {},
   "source": [
    "### 2. Using The Cross-Validation Method. "
   ]
  },
  {
   "cell_type": "code",
   "execution_count": 12,
   "id": "e28bfc15-5fed-4ff0-aa94-375724f93530",
   "metadata": {},
   "outputs": [
    {
     "data": {
      "text/plain": [
       "array([0.856, 0.856, 0.856, 0.846, 0.848, 0.85 , 0.85 , 0.849, 0.851,\n",
       "       0.858, 0.857, 0.851, 0.846, 0.85 , 0.845, 0.848, 0.712, 0.849,\n",
       "       0.574, 0.842, 0.851, 0.856, 0.849, 0.843, 0.844, 0.849, 0.845,\n",
       "       0.769, 0.826, 0.802, 0.782, 0.77 , 0.838, 0.82 , 0.808, 0.791,\n",
       "       0.803, 0.795, 0.84 , 0.839, 0.799, 0.806, 0.741, 0.749, 0.696,\n",
       "       0.844, 0.846, 0.813, 0.813, 0.833])"
      ]
     },
     "execution_count": 12,
     "metadata": {},
     "output_type": "execute_result"
    }
   ],
   "source": [
    "# Import The RandomForestClassifier Model.\n",
    "\n",
    "from sklearn.model_selection import cross_val_score\n",
    "from sklearn.ensemble import RandomForestClassifier\n",
    "\n",
    "    # Set Up Random Seed.\n",
    "\n",
    "np.random.seed(42)\n",
    "\n",
    "    # Create The Data And Define The Wanted Outcome, Which Is If A Customer Will Book A Flight.\n",
    "\n",
    "X = customer_bookings.drop('booking_complete' , axis = 1)\n",
    "y = customer_bookings['booking_complete']\n",
    "\n",
    "    # Split The Data Into Train And Test Split.\n",
    "\n",
    "X_train , X_test , y_train , y_test = train_test_split (X , y , test_size = 0.2)\n",
    "\n",
    "    # Instantiate The RandomForestClassifier Model. \n",
    "\n",
    "clf = RandomForestClassifier()\n",
    "\n",
    "    # Fit The Data To Our Algorithim.\n",
    "clf.fit(X_train , y_train)\n",
    "cross_val_score(clf , X , y , cv = 50)"
   ]
  },
  {
   "cell_type": "code",
   "execution_count": 13,
   "id": "98cf8b03-6929-453d-9507-c30910cd24e7",
   "metadata": {},
   "outputs": [],
   "source": [
    "# Compare The Two Scores."
   ]
  },
  {
   "cell_type": "code",
   "execution_count": 14,
   "id": "4d6812c9-e0e2-4e7c-ad48-f5f23905aae7",
   "metadata": {},
   "outputs": [],
   "source": [
    "clf_cross_val_score = np.mean(cross_val_score (clf , X , y , cv = 42))"
   ]
  },
  {
   "cell_type": "code",
   "execution_count": 15,
   "id": "ad0f794c-f5fb-41ef-a4c3-69fd28d5f479",
   "metadata": {},
   "outputs": [],
   "source": [
    "clf_single_score = clf.score(X_test , y_test)"
   ]
  },
  {
   "cell_type": "code",
   "execution_count": 16,
   "id": "3b477fe1-b674-41c6-997d-fed70e393462",
   "metadata": {},
   "outputs": [
    {
     "data": {
      "text/plain": [
       "(0.8539, 0.8153533621677049)"
      ]
     },
     "execution_count": 16,
     "metadata": {},
     "output_type": "execute_result"
    }
   ],
   "source": [
    "clf_single_score , clf_cross_val_score"
   ]
  },
  {
   "cell_type": "markdown",
   "id": "8becb206-b502-467e-b960-d777087a34fd",
   "metadata": {},
   "source": [
    "## 5. Backward Feature Selection."
   ]
  },
  {
   "cell_type": "code",
   "execution_count": 61,
   "id": "2e96561d-3f11-4ece-b52b-d336eba7e3b6",
   "metadata": {},
   "outputs": [],
   "source": [
    "customer_bookings.columns = ['num_passengers' , 'sales_channel' , 'trip_type' , 'purchase_lead' , 'length_of_stay' ,\n",
    "                             'flight_hour' , 'flight_day' , 'booking_origin' , 'wants_extra_baggage' , 'wants_preferred_seat' ,\n",
    "                             'wants_in_flight_meals' , 'flight_duration' , 'booking_complete']"
   ]
  },
  {
   "cell_type": "code",
   "execution_count": 67,
   "id": "1e12b20d-379c-458b-acb5-d13b4f279d01",
   "metadata": {},
   "outputs": [
    {
     "data": {
      "text/plain": [
       "([<matplotlib.axis.XTick at 0x1456f5d10>,\n",
       "  <matplotlib.axis.XTick at 0x17859cdd0>,\n",
       "  <matplotlib.axis.XTick at 0x1785db0d0>,\n",
       "  <matplotlib.axis.XTick at 0x178619490>,\n",
       "  <matplotlib.axis.XTick at 0x17861b590>,\n",
       "  <matplotlib.axis.XTick at 0x178621690>,\n",
       "  <matplotlib.axis.XTick at 0x1786225d0>,\n",
       "  <matplotlib.axis.XTick at 0x178630750>,\n",
       "  <matplotlib.axis.XTick at 0x1786326d0>,\n",
       "  <matplotlib.axis.XTick at 0x178634850>,\n",
       "  <matplotlib.axis.XTick at 0x178636710>,\n",
       "  <matplotlib.axis.XTick at 0x178623d90>],\n",
       " [Text(0, 0, 'purchase_lead'),\n",
       "  Text(1, 0, 'flight_hour'),\n",
       "  Text(2, 0, 'length_of_stay'),\n",
       "  Text(3, 0, 'booking_origin'),\n",
       "  Text(4, 0, 'flight_day'),\n",
       "  Text(5, 0, 'flight_duration'),\n",
       "  Text(6, 0, 'num_passengers'),\n",
       "  Text(7, 0, 'wants_in_flight_meals'),\n",
       "  Text(8, 0, 'wants_preferred_seat'),\n",
       "  Text(9, 0, 'wants_extra_baggage'),\n",
       "  Text(10, 0, 'sales_channel'),\n",
       "  Text(11, 0, 'trip_type')])"
      ]
     },
     "execution_count": 67,
     "metadata": {},
     "output_type": "execute_result"
    },
    {
     "data": {
      "image/png": "[encoded data removed]",
      "text/plain": [
       "<Figure size 640x480 with 1 Axes>"
      ]
     },
     "metadata": {},
     "output_type": "display_data"
    }
   ],
   "source": [
    "from sklearn.ensemble import RandomForestClassifier\n",
    "\n",
    "clf = RandomForestClassifier(n_estimators = 500,\n",
    "                             random_state = 1)\n",
    "clf.fit(X_train , y_train)\n",
    "importances = clf.feature_importances_\n",
    "\n",
    "indicies = np.argsort(importances)[::-1]\n",
    "\n",
    "plt.ylabel('Feature Importance')\n",
    "plt.bar(range (X_train.shape[1]),\n",
    "        importances[indicies],\n",
    "        align = 'center')\n",
    "\n",
    "feat_labels = customer_bookings.columns[:13]\n",
    "plt.xticks(range (X_train.shape[1]),\n",
    "           feat_labels[indicies], \n",
    "           rotation = 90)\n"
   ]
  },
  {
   "cell_type": "code",
   "execution_count": null,
   "id": "4687064c-8d16-42a4-a22a-c52ff54ce79d",
   "metadata": {},
   "outputs": [],
   "source": []
  }
 ],
 "metadata": {
  "kernelspec": {
   "display_name": "Python 3 (ipykernel)",
   "language": "python",
   "name": "python3"
  },
  "language_info": {
   "codemirror_mode": {
    "name": "ipython",
    "version": 3
   },
   "file_extension": ".py",
   "mimetype": "text/x-python",
   "name": "python",
   "nbconvert_exporter": "python",
   "pygments_lexer": "ipython3",
   "version": "3.11.5"
  }
 },
 "nbformat": 4,
 "nbformat_minor": 5
}
